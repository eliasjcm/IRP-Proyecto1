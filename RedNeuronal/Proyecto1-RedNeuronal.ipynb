{
 "cells": [
  {
   "cell_type": "markdown",
   "metadata": {},
   "source": [
    "# Proyecto 1 - Introducción al Reconocimiento de Patrones\n",
    "Reconocedor de números escritos a mano por medio de redes neuronales\n",
    "\n",
    "Se sugiere correr todas las celdas"
   ]
  },
  {
   "cell_type": "markdown",
   "metadata": {},
   "source": [
    "Bibliotecas necesarias para correr el notebook: `tensorflow, matplotlib, numpy, pandas`"
   ]
  },
  {
   "cell_type": "code",
   "execution_count": 1,
   "metadata": {},
   "outputs": [],
   "source": [
    "# Para la red neuronal\n",
    "import tensorflow as tf\n",
    "from tensorflow import keras\n",
    "import matplotlib.pyplot as plt\n",
    "import numpy as np\n",
    "\n",
    "# Para procesamiento de imágenes\n",
    "import os\n",
    "from random import choice\n",
    "import cv2 as cv\n",
    "\n",
    "# Para mostrar los resultados de forma más legible\n",
    "import pandas as pd\n",
    "from IPython.display import display\n",
    "import seaborn as sn"
   ]
  },
  {
   "cell_type": "markdown",
   "metadata": {},
   "source": [
    "Se generan las listas con los datos de entrenamiento y de prueba"
   ]
  },
  {
   "cell_type": "code",
   "execution_count": 2,
   "metadata": {},
   "outputs": [
    {
     "name": "stdout",
     "output_type": "stream",
     "text": [
      "\n",
      "Separando imagenes...\n",
      "Procesando directorio: 0\n",
      "Procesando directorio: 1\n",
      "Procesando directorio: 2\n",
      "Procesando directorio: 3\n",
      "Procesando directorio: 4\n",
      "Procesando directorio: 5\n",
      "Procesando directorio: 6\n",
      "Procesando directorio: 7\n",
      "Procesando directorio: 8\n",
      "Procesando directorio: 9\n"
     ]
    }
   ],
   "source": [
    "X_train = []\n",
    "y_train = []\n",
    "X_test = []\n",
    "y_test = []\n",
    "\n",
    "def splitImages():\n",
    "    print(\"\\nSeparando imagenes...\")\n",
    "\n",
    "    for dir in os.listdir(\"numbers\"):\n",
    "        print(f\"Procesando directorio: {dir}\")\n",
    "        numbers = os.listdir(f\"numbers/{dir}\")\n",
    "        amount = int(len(numbers)*0.3)\n",
    "\n",
    "        # save test images\n",
    "        for i in range(amount):\n",
    "            digit = choice(numbers)\n",
    "            numbers.remove(digit)\n",
    "            image = cv.imread(f\"numbers/{dir}/{digit}\", 0)\n",
    "            X_test.append(image)\n",
    "            y_test.append(int(dir))\n",
    "\n",
    "        # save train images\n",
    "        for file in numbers:\n",
    "            image = cv.imread(f\"numbers/{dir}/{file}\", 0)\n",
    "            X_train.append(image)\n",
    "            y_train.append(int(dir))\n",
    "splitImages()"
   ]
  },
  {
   "cell_type": "markdown",
   "metadata": {},
   "source": [
    "Se convierten los arreglos de características y clases a arreglos de numpy para poder aprovechar las funcionalidades que estos ofrecen"
   ]
  },
  {
   "cell_type": "code",
   "execution_count": 3,
   "metadata": {},
   "outputs": [],
   "source": [
    "X_train = np.array(X_train)\n",
    "y_train = np.array(y_train)\n",
    "X_test = np.array(X_test)\n",
    "y_test = np.array(y_test)"
   ]
  },
  {
   "cell_type": "markdown",
   "metadata": {},
   "source": [
    "Los arreglos de características estan compuestos por los píxeles de las imágenes que tienen valores en el rango de 0 a 255, dividiendo cada valor en estos arreglos entre 255, nos aseguramos que los valores se encuentren ahora dentro del rango de 0 a 1, con el objetivo de alcanzar una mayor precisión en el reconocedor, ya que existe una menor dispersión en los valores"
   ]
  },
  {
   "cell_type": "code",
   "execution_count": 4,
   "metadata": {},
   "outputs": [],
   "source": [
    "X_train = X_train / 255\n",
    "X_test = X_test / 255"
   ]
  },
  {
   "cell_type": "markdown",
   "metadata": {},
   "source": [
    "Se muestra las dimensiones de cada arreglo, los arreglos de entrenamiento son matrices de tamaño 67x50, mientras que el vector de etiquetas es unidemensional, ya que a cada imagen se le asocia una única etiqueta "
   ]
  },
  {
   "cell_type": "code",
   "execution_count": 5,
   "metadata": {},
   "outputs": [
    {
     "data": {
      "text/plain": [
       "((4649, 67, 50), (4649,), (1980, 67, 50), (1980,))"
      ]
     },
     "execution_count": 5,
     "metadata": {},
     "output_type": "execute_result"
    }
   ],
   "source": [
    "X_train.shape, y_train.shape, X_test.shape, y_test.shape"
   ]
  },
  {
   "cell_type": "code",
   "execution_count": 6,
   "metadata": {},
   "outputs": [
    {
     "name": "stdout",
     "output_type": "stream",
     "text": [
      "Epoch 1/5\n",
      "146/146 [==============================] - 0s 1ms/step - loss: 0.3882 - accuracy: 0.8866\n",
      "Epoch 2/5\n",
      "146/146 [==============================] - 0s 1ms/step - loss: 0.1158 - accuracy: 0.9686\n",
      "Epoch 3/5\n",
      "146/146 [==============================] - 0s 1ms/step - loss: 0.0595 - accuracy: 0.9869\n",
      "Epoch 4/5\n",
      "146/146 [==============================] - 0s 1ms/step - loss: 0.0388 - accuracy: 0.9925\n",
      "Epoch 5/5\n",
      "146/146 [==============================] - 0s 1ms/step - loss: 0.0225 - accuracy: 0.9961\n"
     ]
    },
    {
     "data": {
      "text/plain": [
       "<keras.callbacks.History at 0x239f774feb0>"
      ]
     },
     "execution_count": 6,
     "metadata": {},
     "output_type": "execute_result"
    }
   ],
   "source": [
    "# Conjunto de capas que tiene la red neuronal\n",
    "model = keras.Sequential([\n",
    "    keras.layers.Flatten(input_shape=(67, 50)),\n",
    "    keras.layers.Dense(100, activation='relu'),\n",
    "    keras.layers.Dense(10, activation='sigmoid')\n",
    "])\n",
    "\n",
    "model.compile(\n",
    "    optimizer='adam',\n",
    "    loss='sparse_categorical_crossentropy',\n",
    "    metrics=['accuracy']\n",
    ")\n",
    "\n",
    "model.fit(X_train, y_train, epochs=5)"
   ]
  },
  {
   "cell_type": "code",
   "execution_count": 38,
   "metadata": {},
   "outputs": [
    {
     "name": "stdout",
     "output_type": "stream",
     "text": [
      "62/62 [==============================] - 0s 864us/step - loss: 0.1146 - accuracy: 0.9707\n"
     ]
    },
    {
     "data": {
      "text/plain": [
       "[0.1146160438656807, 0.9707070589065552]"
      ]
     },
     "execution_count": 38,
     "metadata": {},
     "output_type": "execute_result"
    }
   ],
   "source": [
    "model.evaluate(X_test, y_test)"
   ]
  },
  {
   "cell_type": "code",
   "execution_count": 7,
   "metadata": {},
   "outputs": [
    {
     "name": "stdout",
     "output_type": "stream",
     "text": [
      "62/62 [==============================] - 0s 875us/step\n"
     ]
    },
    {
     "data": {
      "text/html": [
       "<div>\n",
       "<style scoped>\n",
       "    .dataframe tbody tr th:only-of-type {\n",
       "        vertical-align: middle;\n",
       "    }\n",
       "\n",
       "    .dataframe tbody tr th {\n",
       "        vertical-align: top;\n",
       "    }\n",
       "\n",
       "    .dataframe thead th {\n",
       "        text-align: right;\n",
       "    }\n",
       "</style>\n",
       "<table border=\"1\" class=\"dataframe\">\n",
       "  <thead>\n",
       "    <tr style=\"text-align: right;\">\n",
       "      <th></th>\n",
       "      <th>Total</th>\n",
       "      <th>Correct</th>\n",
       "      <th>%</th>\n",
       "    </tr>\n",
       "    <tr>\n",
       "      <th>Actual</th>\n",
       "      <th></th>\n",
       "      <th></th>\n",
       "      <th></th>\n",
       "    </tr>\n",
       "  </thead>\n",
       "  <tbody>\n",
       "    <tr>\n",
       "      <th>0</th>\n",
       "      <td>198</td>\n",
       "      <td>197</td>\n",
       "      <td>99.494949</td>\n",
       "    </tr>\n",
       "    <tr>\n",
       "      <th>1</th>\n",
       "      <td>198</td>\n",
       "      <td>195</td>\n",
       "      <td>98.484848</td>\n",
       "    </tr>\n",
       "    <tr>\n",
       "      <th>2</th>\n",
       "      <td>198</td>\n",
       "      <td>196</td>\n",
       "      <td>98.989899</td>\n",
       "    </tr>\n",
       "    <tr>\n",
       "      <th>3</th>\n",
       "      <td>198</td>\n",
       "      <td>195</td>\n",
       "      <td>98.484848</td>\n",
       "    </tr>\n",
       "    <tr>\n",
       "      <th>4</th>\n",
       "      <td>198</td>\n",
       "      <td>188</td>\n",
       "      <td>94.949495</td>\n",
       "    </tr>\n",
       "    <tr>\n",
       "      <th>5</th>\n",
       "      <td>198</td>\n",
       "      <td>194</td>\n",
       "      <td>97.979798</td>\n",
       "    </tr>\n",
       "    <tr>\n",
       "      <th>6</th>\n",
       "      <td>198</td>\n",
       "      <td>196</td>\n",
       "      <td>98.989899</td>\n",
       "    </tr>\n",
       "    <tr>\n",
       "      <th>7</th>\n",
       "      <td>198</td>\n",
       "      <td>188</td>\n",
       "      <td>94.949495</td>\n",
       "    </tr>\n",
       "    <tr>\n",
       "      <th>8</th>\n",
       "      <td>198</td>\n",
       "      <td>191</td>\n",
       "      <td>96.464646</td>\n",
       "    </tr>\n",
       "    <tr>\n",
       "      <th>9</th>\n",
       "      <td>198</td>\n",
       "      <td>193</td>\n",
       "      <td>97.474747</td>\n",
       "    </tr>\n",
       "  </tbody>\n",
       "</table>\n",
       "</div>"
      ],
      "text/plain": [
       "        Total  Correct          %\n",
       "Actual                           \n",
       "0         198      197  99.494949\n",
       "1         198      195  98.484848\n",
       "2         198      196  98.989899\n",
       "3         198      195  98.484848\n",
       "4         198      188  94.949495\n",
       "5         198      194  97.979798\n",
       "6         198      196  98.989899\n",
       "7         198      188  94.949495\n",
       "8         198      191  96.464646\n",
       "9         198      193  97.474747"
      ]
     },
     "metadata": {},
     "output_type": "display_data"
    },
    {
     "data": {
      "text/plain": [
       "Text(95.72222222222221, 0.5, 'Truth')"
      ]
     },
     "execution_count": 7,
     "metadata": {},
     "output_type": "execute_result"
    },
    {
     "data": {
      "image/png": "[encoded data removed]",
      "text/plain": [
       "<Figure size 1000x700 with 2 Axes>"
      ]
     },
     "metadata": {},
     "output_type": "display_data"
    }
   ],
   "source": [
    "y_predicted = model.predict(X_test)\n",
    "y_predicted_labels = [np.argmax(i) for i in y_predicted]\n",
    "\n",
    "# Show % of correct predictions for each digit\n",
    "df = pd.DataFrame({'Actual': y_test, 'Predicted': y_predicted_labels})\n",
    "df1 = df.groupby('Actual').count()\n",
    "df2 = df[df.Actual == df.Predicted].groupby('Actual').count()\n",
    "df3 = pd.concat([df1, df2], axis=1)\n",
    "df3.columns = ['Total', 'Correct']\n",
    "df3['%'] = df3['Correct'] / df3['Total'] * 100\n",
    "display(df3)\n",
    "\n",
    "cm = tf.math.confusion_matrix(labels=y_test, predictions=y_predicted_labels)\n",
    "cm\n",
    "\n",
    "plt.figure(figsize = (10,7))\n",
    "sn.heatmap(cm, annot=True, fmt='d')\n",
    "plt.xlabel('Predicted')\n",
    "plt.ylabel('Truth')"
   ]
  },
  {
   "cell_type": "markdown",
   "metadata": {},
   "source": [
    "### Ejemplo del modelo prediciendo un número aleatorio"
   ]
  },
  {
   "cell_type": "code",
   "execution_count": 12,
   "metadata": {},
   "outputs": [
    {
     "data": {
      "image/png": "[encoded data removed]",
      "text/plain": [
       "<Figure size 640x480 with 1 Axes>"
      ]
     },
     "metadata": {},
     "output_type": "display_data"
    },
    {
     "name": "stdout",
     "output_type": "stream",
     "text": [
      "62/62 [==============================] - 0s 797us/step\n",
      "Number is: 1\n",
      "...Actual: 1\n"
     ]
    },
    {
     "data": {
      "text/html": [
       "<div>\n",
       "<style scoped>\n",
       "    .dataframe tbody tr th:only-of-type {\n",
       "        vertical-align: middle;\n",
       "    }\n",
       "\n",
       "    .dataframe tbody tr th {\n",
       "        vertical-align: top;\n",
       "    }\n",
       "\n",
       "    .dataframe thead th {\n",
       "        text-align: right;\n",
       "    }\n",
       "</style>\n",
       "<table border=\"1\" class=\"dataframe\">\n",
       "  <thead>\n",
       "    <tr style=\"text-align: right;\">\n",
       "      <th></th>\n",
       "      <th>0</th>\n",
       "      <th>1</th>\n",
       "      <th>2</th>\n",
       "      <th>3</th>\n",
       "      <th>4</th>\n",
       "      <th>5</th>\n",
       "      <th>6</th>\n",
       "      <th>7</th>\n",
       "      <th>8</th>\n",
       "      <th>9</th>\n",
       "    </tr>\n",
       "  </thead>\n",
       "  <tbody>\n",
       "    <tr>\n",
       "      <th>0</th>\n",
       "      <td>0.00098</td>\n",
       "      <td>0.999987</td>\n",
       "      <td>0.016382</td>\n",
       "      <td>0.253145</td>\n",
       "      <td>0.38763</td>\n",
       "      <td>0.490886</td>\n",
       "      <td>0.028533</td>\n",
       "      <td>0.310144</td>\n",
       "      <td>0.870979</td>\n",
       "      <td>0.809372</td>\n",
       "    </tr>\n",
       "  </tbody>\n",
       "</table>\n",
       "</div>"
      ],
      "text/plain": [
       "         0         1         2         3        4         5         6  \\\n",
       "0  0.00098  0.999987  0.016382  0.253145  0.38763  0.490886  0.028533   \n",
       "\n",
       "          7         8         9  \n",
       "0  0.310144  0.870979  0.809372  "
      ]
     },
     "metadata": {},
     "output_type": "display_data"
    }
   ],
   "source": [
    "def predict_random():\n",
    "    i = np.random.randint(0, len(X_test))\n",
    "    plt.imshow(X_test[i])\n",
    "    plt.show()\n",
    "    prediction = model.predict(X_test)[i]\n",
    "    print(\"Number is:\", np.argmax(prediction))\n",
    "    print(\"...Actual:\", y_test[i])\n",
    "    np.set_printoptions(formatter={'float': '{: 0.3f}'.format})\n",
    "    df = pd.DataFrame([prediction], columns=[f\"{i}\" for i in range(10)])\n",
    "    display(df)\n",
    "\n",
    "predict_random()"
   ]
  },
  {
   "cell_type": "markdown",
   "metadata": {},
   "source": [
    "Se puede también utilizar dígitos que no forman parte del dataset con el que se entrenó y validó la red neuronal gracias al uso de la función `predict_image`"
   ]
  },
  {
   "cell_type": "code",
   "execution_count": 19,
   "metadata": {},
   "outputs": [
    {
     "data": {
      "image/png": "[encoded data removed]",
      "text/plain": [
       "<Figure size 640x480 with 1 Axes>"
      ]
     },
     "metadata": {},
     "output_type": "display_data"
    },
    {
     "name": "stdout",
     "output_type": "stream",
     "text": [
      "1/1 [==============================] - 0s 14ms/step\n",
      "Number is: 9\n"
     ]
    },
    {
     "data": {
      "text/html": [
       "<div>\n",
       "<style scoped>\n",
       "    .dataframe tbody tr th:only-of-type {\n",
       "        vertical-align: middle;\n",
       "    }\n",
       "\n",
       "    .dataframe tbody tr th {\n",
       "        vertical-align: top;\n",
       "    }\n",
       "\n",
       "    .dataframe thead th {\n",
       "        text-align: right;\n",
       "    }\n",
       "</style>\n",
       "<table border=\"1\" class=\"dataframe\">\n",
       "  <thead>\n",
       "    <tr style=\"text-align: right;\">\n",
       "      <th></th>\n",
       "      <th>0</th>\n",
       "      <th>1</th>\n",
       "      <th>2</th>\n",
       "      <th>3</th>\n",
       "      <th>4</th>\n",
       "      <th>5</th>\n",
       "      <th>6</th>\n",
       "      <th>7</th>\n",
       "      <th>8</th>\n",
       "      <th>9</th>\n",
       "    </tr>\n",
       "  </thead>\n",
       "  <tbody>\n",
       "    <tr>\n",
       "      <th>0</th>\n",
       "      <td>0.020181</td>\n",
       "      <td>0.584506</td>\n",
       "      <td>0.318167</td>\n",
       "      <td>0.549199</td>\n",
       "      <td>0.777663</td>\n",
       "      <td>0.495194</td>\n",
       "      <td>0.028664</td>\n",
       "      <td>0.489602</td>\n",
       "      <td>0.342765</td>\n",
       "      <td>0.999667</td>\n",
       "    </tr>\n",
       "  </tbody>\n",
       "</table>\n",
       "</div>"
      ],
      "text/plain": [
       "          0         1         2         3         4         5         6  \\\n",
       "0  0.020181  0.584506  0.318167  0.549199  0.777663  0.495194  0.028664   \n",
       "\n",
       "          7         8         9  \n",
       "0  0.489602  0.342765  0.999667  "
      ]
     },
     "metadata": {},
     "output_type": "display_data"
    }
   ],
   "source": [
    "def predict_image(img, black_number=False):\n",
    "    img = cv.imread(img, 0)\n",
    "    img = cv.resize(img, (50, 67))\n",
    "\n",
    "    if black_number:\n",
    "        img = cv.bitwise_not(img)\n",
    "        \n",
    "    img = img / 255\n",
    "\n",
    "    img = np.array(img)\n",
    "\n",
    "    # print(img)\n",
    "    plt.imshow(img)\n",
    "    plt.show()\n",
    "\n",
    "    img = np.expand_dims(img, axis=0)\n",
    "    \n",
    "    predict = model.predict(img)\n",
    "    print(\"Number is:\", np.argmax(predict))\n",
    "    \n",
    "    np.set_printoptions(formatter={'float': '{: 0.3f}'.format})\n",
    "    df = pd.DataFrame(predict, columns=[f\"{i}\" for i in range(10)])\n",
    "    \n",
    "    display(df)\n",
    "\n",
    "predict_image(\"9Ale.jpg\", True)"
   ]
  }
 ],
 "metadata": {
  "kernelspec": {
   "display_name": "Python 3.8.10 64-bit (microsoft store)",
   "language": "python",
   "name": "python3"
  },
  "language_info": {
   "codemirror_mode": {
    "name": "ipython",
    "version": 3
   },
   "file_extension": ".py",
   "mimetype": "text/x-python",
   "name": "python",
   "nbconvert_exporter": "python",
   "pygments_lexer": "ipython3",
   "version": "3.8.10"
  },
  "orig_nbformat": 4,
  "vscode": {
   "interpreter": {
    "hash": "42225469e09e94c8ce6cd92bf11dac7ac34d4930a54d16831eb23be303f9503c"
   }
  }
 },
 "nbformat": 4,
 "nbformat_minor": 2
}
